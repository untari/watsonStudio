{
    "cells": [
        {
            "metadata": {
                "collapsed": true
            },
            "cell_type": "markdown",
            "source": "# My Jupyter Notebook on IBM Watson Studio"
        },
        {
            "metadata": {},
            "cell_type": "markdown",
            "source": "**Tari**"
        },
        {
            "metadata": {},
            "cell_type": "markdown",
            "source": "*I am interested in data science because it will be good skill to have as computer science with speciality in ML/AI*"
        },
        {
            "metadata": {},
            "cell_type": "markdown",
            "source": "### division"
        },
        {
            "metadata": {},
            "cell_type": "code",
            "source": "10/2",
            "execution_count": 1,
            "outputs": [
                {
                    "output_type": "execute_result",
                    "execution_count": 1,
                    "data": {
                        "text/plain": "5.0"
                    },
                    "metadata": {}
                }
            ]
        },
        {
            "metadata": {},
            "cell_type": "markdown",
            "source": "| first cell | second cell |\n---------------------------------\n|* Item 1             | [I'm an inline-style link](https://www.google.com)                                                                                                                |\n------------------------|-------------------------------------------------------------------------------------------------------------------------------------------------------------------|\n|1. number list   | ![images](https://github.com/adam-p/markdown-here/raw/master/src/common/images/icon48.png \"Logo Title Text 1\") |\n| ```javascript  var s = \"JavaScript syntax highlighting\"; alert(s);```                                                                                                                   |\n| > Blockquotes are very handy in email to emulate reply text.                                                                                                                          |\n| > This line is part of the same quote.                                                                                                                                                                  |\n| ~~cat~~                                                                                                                                                                                                                 |"
        },
        {
            "metadata": {},
            "cell_type": "markdown",
            "source": ""
        },
        {
            "metadata": {},
            "cell_type": "code",
            "source": "",
            "execution_count": null,
            "outputs": []
        }
    ],
    "metadata": {
        "kernelspec": {
            "name": "python3",
            "display_name": "Python 3.9",
            "language": "python"
        },
        "language_info": {
            "name": "python",
            "version": "3.9.12",
            "mimetype": "text/x-python",
            "codemirror_mode": {
                "name": "ipython",
                "version": 3
            },
            "pygments_lexer": "ipython3",
            "nbconvert_exporter": "python",
            "file_extension": ".py"
        }
    },
    "nbformat": 4,
    "nbformat_minor": 1
}